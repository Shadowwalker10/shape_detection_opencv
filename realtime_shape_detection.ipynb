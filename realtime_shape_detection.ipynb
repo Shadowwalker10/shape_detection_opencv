{
 "cells": [
  {
   "cell_type": "markdown",
   "id": "48df0d80",
   "metadata": {},
   "source": [
    "### Libraries "
   ]
  },
  {
   "cell_type": "code",
   "execution_count": 2,
   "id": "1605d72e",
   "metadata": {},
   "outputs": [],
   "source": [
    "import cv2\n",
    "import numpy as np"
   ]
  },
  {
   "cell_type": "markdown",
   "id": "af3ee145",
   "metadata": {},
   "source": [
    "#### Detect"
   ]
  },
  {
   "cell_type": "code",
   "execution_count": 8,
   "id": "ffa6dec9",
   "metadata": {},
   "outputs": [],
   "source": [
    "width,height = 400,400\n",
    "cap = cv2.VideoCapture(1)\n",
    "cap.set(3,width)\n",
    "cap.set(4,height)\n",
    "\n",
    "def empty(a):\n",
    "    pass\n",
    "\n",
    "#Create Trackbars to find right parameters for the canny edge detector\n",
    "cv2.namedWindow(\"Trackbar\")\n",
    "cv2.resizeWindow(\"Trackbar\",width,200)\n",
    "cv2.createTrackbar(\"Canny_Lower\",\"Trackbar\",0,255,empty)\n",
    "cv2.createTrackbar(\"Canny_Upper\",\"Trackbar\",255,255,empty)\n",
    "cv2.createTrackbar(\"Area_Lower\",\"Trackbar\",0,500000,empty)\n",
    "cv2.createTrackbar(\"Area_Upper\",\"Trackbar\",500000,500000,empty)\n",
    "\n",
    "def find_contours(img,imgout):\n",
    "    \n",
    "    contours, hierarchy = cv2.findContours(img,cv2.RETR_EXTERNAL,cv2.CHAIN_APPROX_NONE)\n",
    "    for cnt in contours:\n",
    "        area = cv2.contourArea(cnt)\n",
    "        lower_area = cv2.getTrackbarPos(\"Area_Lower\",\"Trackbar\")\n",
    "        upper_area = cv2.getTrackbarPos(\"Area_Upper\",\"Trackbar\")\n",
    "        \n",
    "        if area>=lower_area and area<=upper_area:\n",
    "            cv2.drawContours(imgout,cnt,-1,(0,0,255),2)\n",
    "            perimeter = cv2.arcLength(cnt, True)\n",
    "            approx = cv2.approxPolyDP(cnt,0.02*perimeter,True)\n",
    "            no_corners = len(approx)\n",
    "\n",
    "            \n",
    "            #Draw bounding rect\n",
    "            x1,y1,w1,h1 = cv2.boundingRect(approx)\n",
    "            cv2.rectangle(imgout,(x1,y1),(x1+w1,y1+h1),(255,0,0),5)\n",
    "            \n",
    "            cv2.putText(imgout,\"Vertices: \"+str(no_corners),(x1+int(w1/2)+30,y1+int(h1/2)+30),cv2.FONT_HERSHEY_COMPLEX,\n",
    "                        0.8,(25,200,100),2)\n",
    "            \n",
    "            cv2.putText(imgout,\"Area: \"+str(area),(50,50),cv2.FONT_HERSHEY_COMPLEX,\n",
    "                       0.8,(0,0,255),2)\n",
    "            \n",
    "        else:\n",
    "            continue\n",
    "            \n",
    "\n",
    "\n",
    "\n",
    "while True:\n",
    "    success,img = cap.read()\n",
    "    imgout = img.copy()\n",
    "    img_blur = cv2.GaussianBlur(img,(3,3),1)\n",
    "    img_gray = cv2.cvtColor(img_blur,cv2.COLOR_BGR2GRAY)\n",
    "    \n",
    "    re_ht,re_wd = 300,300\n",
    "    \n",
    "\n",
    "    \n",
    "    \n",
    "    lower = cv2.getTrackbarPos(\"Canny_Lower\",\"Trackbar\")\n",
    "    upper = cv2.getTrackbarPos(\"Canny_Upper\",\"Trackbar\")\n",
    "    \n",
    "    #Applying Canny Edge Detector\n",
    "    canny = cv2.Canny(img_gray,lower,upper)\n",
    "    \n",
    "    #Apply Dilation to remove some noise\n",
    "    dilate = cv2.dilate(canny,np.ones(shape = (7,7),dtype=float),iterations = 1)\n",
    "    \n",
    "    \n",
    "    #Detecting contours\n",
    "    find_contours(dilate,imgout)\n",
    "    \n",
    "     \n",
    "    #Display Image\n",
    "    \n",
    "    stacked = np.hstack([cv2.resize(img,(re_ht,re_wd)),\n",
    "                         cv2.resize(imgout,(re_ht,re_wd)),\n",
    "                         cv2.cvtColor(cv2.resize(dilate,(re_ht,re_wd)),cv2.COLOR_GRAY2BGR)])\n",
    "    \n",
    "    \n",
    "    \n",
    "    cv2.imshow(\"Stacked\",stacked)\n",
    "    \n",
    "    \n",
    "    \n",
    "    if cv2.waitKey(1) & 0xFF == ord('q'):\n",
    "        break\n",
    "cap.release()\n",
    "cv2.destroyAllWindows()"
   ]
  },
  {
   "cell_type": "code",
   "execution_count": null,
   "id": "296b2a4d",
   "metadata": {},
   "outputs": [],
   "source": []
  }
 ],
 "metadata": {
  "kernelspec": {
   "display_name": "Python 3 (ipykernel)",
   "language": "python",
   "name": "python3"
  },
  "language_info": {
   "codemirror_mode": {
    "name": "ipython",
    "version": 3
   },
   "file_extension": ".py",
   "mimetype": "text/x-python",
   "name": "python",
   "nbconvert_exporter": "python",
   "pygments_lexer": "ipython3",
   "version": "3.9.7"
  }
 },
 "nbformat": 4,
 "nbformat_minor": 5
}
